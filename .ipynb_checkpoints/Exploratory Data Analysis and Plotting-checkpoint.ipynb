{
 "cells": [
  {
   "cell_type": "markdown",
   "metadata": {},
   "source": [
    "# Exploratory Data Analysis"
   ]
  },
  {
   "cell_type": "code",
   "execution_count": 166,
   "metadata": {},
   "outputs": [],
   "source": [
    "import numpy as np\n",
    "import pandas as pd\n",
    "import matplotlib.pyplot as plt\n",
    "import seaborn as sns\n",
    "%matplotlib inline"
   ]
  },
  {
   "cell_type": "markdown",
   "metadata": {},
   "source": [
    "### What is Exploratory Data Analysis?\n",
    "\n",
    " * John Tukey, a famous statistician, wrote the book *Exploratory Data Analysis* in 1977.\n",
    "\n",
    " * Too often, a hypothesis test was run on data without ever truly exploring it\n",
    "\n",
    " * Advocated for exploratory methods with an emphasis on visual analysis\n"
   ]
  },
  {
   "cell_type": "markdown",
   "metadata": {},
   "source": [
    "### What is not EDA?\n",
    " * EDA does not have to be tied to a particular model or question\n",
    " * General exploration of the data to learn new things or suggest new questions\n",
    " * Goes back to the iterative nature of data science\n",
    " * Not just a set of procedures"
   ]
  },
  {
   "cell_type": "markdown",
   "metadata": {},
   "source": [
    "#### We Need Both Exploratory and Confirmatory - Tukey (1980)\n",
    "\n",
    "Oftentimes, research proceeds as follows:\n",
    "\n",
    "question -> design -> collection -> analysis -> results\n",
    "\n",
    "However, this process neglects key questions:\n",
    "\n",
    " 1. How are questions generated? (Mainly by quais-theoretical insights and exploration of past data)\n",
    " 2. How are designs guided? (Usually by the best qualitative and semiquantitative information available, i.e. past data)\n",
    " 3. How is data collection monitored? (By looking at the data as it is coming in, looking for unexpected behavior)\n",
    " 4. How do we avoid analysis that the data indicates should not be pursued? (By looking at the data)"
   ]
  },
  {
   "cell_type": "markdown",
   "metadata": {},
   "source": [
    "Generally, people do not ask \"...what do you suppose goes on in that general area?"
   ]
  },
  {
   "cell_type": "markdown",
   "metadata": {},
   "source": [
    "> **Finding the question is often more important than finding the answer**"
   ]
  },
  {
   "cell_type": "markdown",
   "metadata": {},
   "source": [
    "### Tukey's takeaway\n",
    "\n",
    "Exploratory data analysis is: \n",
    "\n",
    " 1. An attitude\n",
    " 2. A flexibility\n",
    " 3. Some graph paper\n",
    "\n"
   ]
  },
  {
   "cell_type": "markdown",
   "metadata": {},
   "source": [
    "From the NIST Information Technology Laboratory's Engineering Statistics Handbook\n",
    " \n",
    "Goals of EDA include: \n",
    "\n",
    " 1. Maximize insight into a data set;\n",
    " 2. Uncover underlying structure;\n",
    " 3. Extract important variables;\n",
    " 4. Detect outliers and anomalies;\n",
    " 5. Test underlying assumptions;\n",
    " 6. Develop parsimonious models; and\n",
    " 7. Determine optimal factor settings.\n"
   ]
  },
  {
   "cell_type": "markdown",
   "metadata": {},
   "source": [
    "### Examples - Anscombe's Quartet"
   ]
  },
  {
   "cell_type": "code",
   "execution_count": 3,
   "metadata": {},
   "outputs": [],
   "source": [
    "anscombe_df = pd.read_csv(\"./data/anscombe.csv\")"
   ]
  },
  {
   "cell_type": "code",
   "execution_count": 9,
   "metadata": {},
   "outputs": [
    {
     "data": {
      "text/html": [
       "<div>\n",
       "<style scoped>\n",
       "    .dataframe tbody tr th:only-of-type {\n",
       "        vertical-align: middle;\n",
       "    }\n",
       "\n",
       "    .dataframe tbody tr th {\n",
       "        vertical-align: top;\n",
       "    }\n",
       "\n",
       "    .dataframe thead th {\n",
       "        text-align: right;\n",
       "    }\n",
       "</style>\n",
       "<table border=\"1\" class=\"dataframe\">\n",
       "  <thead>\n",
       "    <tr style=\"text-align: right;\">\n",
       "      <th></th>\n",
       "      <th>x1</th>\n",
       "      <th>x2</th>\n",
       "      <th>x3</th>\n",
       "      <th>x4</th>\n",
       "      <th>y1</th>\n",
       "      <th>y2</th>\n",
       "      <th>y3</th>\n",
       "      <th>y4</th>\n",
       "    </tr>\n",
       "  </thead>\n",
       "  <tbody>\n",
       "    <tr>\n",
       "      <th>0</th>\n",
       "      <td>10</td>\n",
       "      <td>10</td>\n",
       "      <td>10</td>\n",
       "      <td>8</td>\n",
       "      <td>8.04</td>\n",
       "      <td>9.14</td>\n",
       "      <td>7.46</td>\n",
       "      <td>6.58</td>\n",
       "    </tr>\n",
       "    <tr>\n",
       "      <th>1</th>\n",
       "      <td>8</td>\n",
       "      <td>8</td>\n",
       "      <td>8</td>\n",
       "      <td>8</td>\n",
       "      <td>6.95</td>\n",
       "      <td>8.14</td>\n",
       "      <td>6.77</td>\n",
       "      <td>5.76</td>\n",
       "    </tr>\n",
       "    <tr>\n",
       "      <th>2</th>\n",
       "      <td>13</td>\n",
       "      <td>13</td>\n",
       "      <td>13</td>\n",
       "      <td>8</td>\n",
       "      <td>7.58</td>\n",
       "      <td>8.74</td>\n",
       "      <td>12.74</td>\n",
       "      <td>7.71</td>\n",
       "    </tr>\n",
       "    <tr>\n",
       "      <th>3</th>\n",
       "      <td>9</td>\n",
       "      <td>9</td>\n",
       "      <td>9</td>\n",
       "      <td>8</td>\n",
       "      <td>8.81</td>\n",
       "      <td>8.77</td>\n",
       "      <td>7.11</td>\n",
       "      <td>8.84</td>\n",
       "    </tr>\n",
       "    <tr>\n",
       "      <th>4</th>\n",
       "      <td>11</td>\n",
       "      <td>11</td>\n",
       "      <td>11</td>\n",
       "      <td>8</td>\n",
       "      <td>8.33</td>\n",
       "      <td>9.26</td>\n",
       "      <td>7.81</td>\n",
       "      <td>8.47</td>\n",
       "    </tr>\n",
       "    <tr>\n",
       "      <th>5</th>\n",
       "      <td>14</td>\n",
       "      <td>14</td>\n",
       "      <td>14</td>\n",
       "      <td>8</td>\n",
       "      <td>9.96</td>\n",
       "      <td>8.10</td>\n",
       "      <td>8.84</td>\n",
       "      <td>7.04</td>\n",
       "    </tr>\n",
       "    <tr>\n",
       "      <th>6</th>\n",
       "      <td>6</td>\n",
       "      <td>6</td>\n",
       "      <td>6</td>\n",
       "      <td>8</td>\n",
       "      <td>7.24</td>\n",
       "      <td>6.13</td>\n",
       "      <td>6.08</td>\n",
       "      <td>5.25</td>\n",
       "    </tr>\n",
       "    <tr>\n",
       "      <th>7</th>\n",
       "      <td>4</td>\n",
       "      <td>4</td>\n",
       "      <td>4</td>\n",
       "      <td>19</td>\n",
       "      <td>4.26</td>\n",
       "      <td>3.10</td>\n",
       "      <td>5.39</td>\n",
       "      <td>12.50</td>\n",
       "    </tr>\n",
       "    <tr>\n",
       "      <th>8</th>\n",
       "      <td>12</td>\n",
       "      <td>12</td>\n",
       "      <td>12</td>\n",
       "      <td>8</td>\n",
       "      <td>10.84</td>\n",
       "      <td>9.13</td>\n",
       "      <td>8.15</td>\n",
       "      <td>5.56</td>\n",
       "    </tr>\n",
       "    <tr>\n",
       "      <th>9</th>\n",
       "      <td>7</td>\n",
       "      <td>7</td>\n",
       "      <td>7</td>\n",
       "      <td>8</td>\n",
       "      <td>4.82</td>\n",
       "      <td>7.26</td>\n",
       "      <td>6.42</td>\n",
       "      <td>7.91</td>\n",
       "    </tr>\n",
       "    <tr>\n",
       "      <th>10</th>\n",
       "      <td>5</td>\n",
       "      <td>5</td>\n",
       "      <td>5</td>\n",
       "      <td>8</td>\n",
       "      <td>5.68</td>\n",
       "      <td>4.74</td>\n",
       "      <td>5.73</td>\n",
       "      <td>6.89</td>\n",
       "    </tr>\n",
       "  </tbody>\n",
       "</table>\n",
       "</div>"
      ],
      "text/plain": [
       "    x1  x2  x3  x4     y1    y2     y3     y4\n",
       "0   10  10  10   8   8.04  9.14   7.46   6.58\n",
       "1    8   8   8   8   6.95  8.14   6.77   5.76\n",
       "2   13  13  13   8   7.58  8.74  12.74   7.71\n",
       "3    9   9   9   8   8.81  8.77   7.11   8.84\n",
       "4   11  11  11   8   8.33  9.26   7.81   8.47\n",
       "5   14  14  14   8   9.96  8.10   8.84   7.04\n",
       "6    6   6   6   8   7.24  6.13   6.08   5.25\n",
       "7    4   4   4  19   4.26  3.10   5.39  12.50\n",
       "8   12  12  12   8  10.84  9.13   8.15   5.56\n",
       "9    7   7   7   8   4.82  7.26   6.42   7.91\n",
       "10   5   5   5   8   5.68  4.74   5.73   6.89"
      ]
     },
     "execution_count": 9,
     "metadata": {},
     "output_type": "execute_result"
    }
   ],
   "source": [
    "anscombe_df"
   ]
  },
  {
   "cell_type": "markdown",
   "metadata": {},
   "source": [
    " * N = 11\n",
    " * Mean of X = 9.0\n",
    " * Mean of Y = 7.5\n",
    " * Intercept = 3\n",
    " * Slope = 0.5\n",
    " * Residual standard deviation = 1.237\n",
    " * Correlation = 0.816"
   ]
  },
  {
   "cell_type": "code",
   "execution_count": 56,
   "metadata": {},
   "outputs": [
    {
     "data": {
      "text/plain": [
       "[<matplotlib.lines.Line2D at 0x1a1c78cf60>]"
      ]
     },
     "execution_count": 56,
     "metadata": {},
     "output_type": "execute_result"
    },
    {
     "data": {
      "image/png": "[encoded data removed]",
      "text/plain": [
       "<Figure size 432x288 with 4 Axes>"
      ]
     },
     "metadata": {
      "needs_background": "light"
     },
     "output_type": "display_data"
    }
   ],
   "source": [
    "plt.suptitle(\"Anscombe's Quartet\")\n",
    "\n",
    "plt.figure(1)\n",
    "plt.subplot(221)\n",
    "plt.scatter(anscombe_df['x1'].values, anscombe_df['y1'].values)\n",
    "plt.xlim(5, 20)\n",
    "plt.ylim(4, 13)\n",
    "plt.plot([0, 20], [3, 13], linestyle = '--', color = 'orange')\n",
    "\n",
    "plt.subplot(222)\n",
    "plt.scatter(anscombe_df['x2'].values, anscombe_df['y2'].values)\n",
    "plt.xlim(5, 20)\n",
    "plt.ylim(4, 13)\n",
    "plt.plot([0, 20], [3, 13], linestyle = '--', color = 'orange')\n",
    "\n",
    "plt.subplot(223)\n",
    "plt.scatter(anscombe_df['x3'].values, anscombe_df['y3'].values)\n",
    "plt.xlim(5, 20)\n",
    "plt.ylim(4, 13)\n",
    "plt.plot([0, 20], [3, 13], linestyle = '--', color = 'orange')\n",
    "\n",
    "plt.subplot(224)\n",
    "plt.scatter(anscombe_df['x4'].values, anscombe_df['y4'].values)\n",
    "plt.xlim(5, 20)\n",
    "plt.ylim(4, 13)\n",
    "plt.plot([0, 20], [3, 13], linestyle = '--', color = 'orange')\n"
   ]
  },
  {
   "cell_type": "markdown",
   "metadata": {},
   "source": [
    "> The first sign that a visualization is good is that it shows \n",
    "you a problem in your data... \n",
    "every successful visualization that I've been involved with \n",
    "has had this stage where you realize, \"Oh my God, this \n",
    "data is not what I thought it would be!\" So already, you've \n",
    "discovered something.\n",
    "\n",
    "Martin Wattenberg - co-lead;  Google People + AI Research"
   ]
  },
  {
   "cell_type": "markdown",
   "metadata": {},
   "source": [
    "#### Example: Burtin 1951 - Antibiotics"
   ]
  },
  {
   "cell_type": "markdown",
   "metadata": {},
   "source": [
    "![](./data/table1.png)"
   ]
  },
  {
   "cell_type": "markdown",
   "metadata": {},
   "source": [
    "minimum inhibitory concentration: (ml/g)"
   ]
  },
  {
   "cell_type": "markdown",
   "metadata": {},
   "source": [
    "![](./data/Antibiotics_burton19951.png)"
   ]
  },
  {
   "cell_type": "markdown",
   "metadata": {},
   "source": [
    "![](./data/alternative.jpg)"
   ]
  },
  {
   "cell_type": "markdown",
   "metadata": {},
   "source": [
    "![](./data/alternativescatter.jpg)"
   ]
  },
  {
   "cell_type": "markdown",
   "metadata": {},
   "source": [
    "## Things to watch out for\n",
    "\n",
    " * **Missing Data** no measurements, redacted, censoring, truncation\n",
    " * **Outlier and Incorrect Values**  misspelling, outliers, ...?\n",
    " * **Types**   \n",
    " * **Entity Resolution** diff. values for the same thing?\n",
    " * **Data Integration** effort/errors when combining data"
   ]
  },
  {
   "cell_type": "markdown",
   "metadata": {},
   "source": [
    "### Outlier Values"
   ]
  },
  {
   "cell_type": "markdown",
   "metadata": {},
   "source": [
    "an outlier value is a value that is far different than the majority of other values. Statistically, this is often thought of as outside of the range $(Q1 - 1.5*IQR, Q3 + 1.5*IQR)$"
   ]
  },
  {
   "cell_type": "markdown",
   "metadata": {},
   "source": [
    "![](./data/boxplot.png)"
   ]
  },
  {
   "cell_type": "markdown",
   "metadata": {},
   "source": [
    "## Robustness"
   ]
  },
  {
   "cell_type": "code",
   "execution_count": 310,
   "metadata": {},
   "outputs": [],
   "source": [
    "a = [i for i in range(0, 100)]"
   ]
  },
  {
   "cell_type": "code",
   "execution_count": 311,
   "metadata": {},
   "outputs": [
    {
     "data": {
      "text/plain": [
       "49.5"
      ]
     },
     "execution_count": 311,
     "metadata": {},
     "output_type": "execute_result"
    }
   ],
   "source": [
    "np.median(a)"
   ]
  },
  {
   "cell_type": "code",
   "execution_count": 312,
   "metadata": {},
   "outputs": [
    {
     "data": {
      "text/plain": [
       "49.5"
      ]
     },
     "execution_count": 312,
     "metadata": {},
     "output_type": "execute_result"
    }
   ],
   "source": [
    "np.mean(a)"
   ]
  },
  {
   "cell_type": "code",
   "execution_count": 316,
   "metadata": {
    "scrolled": true
   },
   "outputs": [
    {
     "data": {
      "text/plain": [
       "(24.75, 74.25)"
      ]
     },
     "execution_count": 316,
     "metadata": {},
     "output_type": "execute_result"
    }
   ],
   "source": [
    "np.percentile(a, 25), np.percentile(a, 75)"
   ]
  },
  {
   "cell_type": "code",
   "execution_count": 317,
   "metadata": {},
   "outputs": [],
   "source": [
    "a.append(100000)"
   ]
  },
  {
   "cell_type": "code",
   "execution_count": 318,
   "metadata": {},
   "outputs": [
    {
     "data": {
      "text/plain": [
       "50.0"
      ]
     },
     "execution_count": 318,
     "metadata": {},
     "output_type": "execute_result"
    }
   ],
   "source": [
    "np.median(a)"
   ]
  },
  {
   "cell_type": "code",
   "execution_count": 319,
   "metadata": {},
   "outputs": [
    {
     "data": {
      "text/plain": [
       "1039.1089108910892"
      ]
     },
     "execution_count": 319,
     "metadata": {},
     "output_type": "execute_result"
    }
   ],
   "source": [
    "np.mean(a)"
   ]
  },
  {
   "cell_type": "code",
   "execution_count": 320,
   "metadata": {},
   "outputs": [
    {
     "data": {
      "text/plain": [
       "25.0"
      ]
     },
     "execution_count": 320,
     "metadata": {},
     "output_type": "execute_result"
    }
   ],
   "source": [
    "np.percentile(a, 25)"
   ]
  },
  {
   "cell_type": "code",
   "execution_count": 321,
   "metadata": {},
   "outputs": [
    {
     "data": {
      "text/plain": [
       "75.0"
      ]
     },
     "execution_count": 321,
     "metadata": {},
     "output_type": "execute_result"
    }
   ],
   "source": [
    "np.percentile(a, 75)"
   ]
  },
  {
   "cell_type": "markdown",
   "metadata": {},
   "source": [
    "# 3 major tools for visualization"
   ]
  },
  {
   "cell_type": "markdown",
   "metadata": {},
   "source": [
    "### Matplotlib\n",
    "\n",
    " * low-level plotting library that gives the user lots of control\n",
    " * basis for most other plotting libraries available in python\n",
    " * default can be ugly at times\n",
    " * Object Oriented API as well as command-driven\n",
    " * [Gallery](https://matplotlib.org/gallery/index.html#examples-index)"
   ]
  },
  {
   "cell_type": "markdown",
   "metadata": {},
   "source": [
    "### Pandas\n",
    "\n",
    " * also offers some plotting capabilities\n",
    " * a great way to start your plots\n",
    " * underlying plots still implemented in matplotlib\n",
    " * [Visualization in Pandas](https://pandas.pydata.org/pandas-docs/stable/user_guide/visualization.html)"
   ]
  },
  {
   "cell_type": "markdown",
   "metadata": {},
   "source": [
    "### Seaborn\n",
    " * nicer defaults than matplotlib\n",
    " * interfaces well with pandas DataFrames\n",
    " * complex plots made easy\n",
    " * Matplotlib \"...tries to make easy things easy and hard things possible.\"\n",
    " * Seaborn makes some hard things easy\n",
    " * [Gallery](https://seaborn.pydata.org/examples/index.html)"
   ]
  },
  {
   "cell_type": "markdown",
   "metadata": {},
   "source": [
    "#### pyplot example"
   ]
  },
  {
   "cell_type": "code",
   "execution_count": 222,
   "metadata": {
    "scrolled": true
   },
   "outputs": [
    {
     "data": {
      "text/plain": [
       "<matplotlib.legend.Legend at 0x1a28a71d30>"
      ]
     },
     "execution_count": 222,
     "metadata": {},
     "output_type": "execute_result"
    },
    {
     "data": {
      "image/png": "[encoded data removed]",
      "text/plain": [
       "<Figure size 640x480 with 1 Axes>"
      ]
     },
     "metadata": {},
     "output_type": "display_data"
    }
   ],
   "source": [
    "x = [1,2,3]\n",
    "y = [4,5,6]\n",
    "\n",
    "plt.plot(x, y, label = 'line 1')\n",
    "plt.xlabel('x variable')\n",
    "plt.ylabel('y variable')\n",
    "plt.title('Here is the title')\n",
    "plt.legend()\n"
   ]
  },
  {
   "cell_type": "markdown",
   "metadata": {},
   "source": [
    "## Using Matplotlib"
   ]
  },
  {
   "cell_type": "markdown",
   "metadata": {},
   "source": [
    "An `Axes` is a plot\n",
    "\n",
    "[https://matplotlib.org/gallery/showcase/anatomy.html](https://matplotlib.org/gallery/showcase/anatomy.html)"
   ]
  },
  {
   "cell_type": "markdown",
   "metadata": {},
   "source": [
    "![](./data/Anatomy.png)"
   ]
  },
  {
   "cell_type": "code",
   "execution_count": 102,
   "metadata": {
    "scrolled": true
   },
   "outputs": [
    {
     "name": "stdout",
     "output_type": "stream",
     "text": [
      "[[<matplotlib.axes._subplots.AxesSubplot object at 0x1a1f194cf8>\n",
      "  <matplotlib.axes._subplots.AxesSubplot object at 0x1a1f1d0fd0>]\n",
      " [<matplotlib.axes._subplots.AxesSubplot object at 0x1a1f1046a0>\n",
      "  <matplotlib.axes._subplots.AxesSubplot object at 0x1a1f24cd30>]]\n"
     ]
    },
    {
     "data": {
      "text/plain": [
       "[(5, 13), (0, 20), Text(0.5,1,'test'), None]"
      ]
     },
     "execution_count": 102,
     "metadata": {},
     "output_type": "execute_result"
    },
    {
     "data": {
      "image/png": "[encoded data removed]",
      "text/plain": [
       "<Figure size 432x288 with 4 Axes>"
      ]
     },
     "metadata": {
      "needs_background": "light"
     },
     "output_type": "display_data"
    }
   ],
   "source": [
    "fig, axes = plt.subplots(2, 2)\n",
    "print(axes)\n",
    "ax = axes[0,0]\n",
    "ax.scatter(anscombe_df['x1'].values, anscombe_df['y1'].values, label = \"Dataset 1\")\n",
    "ax.plot([0,20], [3, 13], linestyle = \"--\", color = \"orange\")\n",
    "ax.legend()\n",
    "ax.set(title = \"Dataframe1\", xlim = (0, 20), ylim = (5, 13))\n",
    "\n",
    "ax = axes[0,1]\n",
    "ax.scatter(anscombe_df['x2'].values, anscombe_df['y2'].values, label = \"Dataset 2\")\n",
    "ax.plot([0,20], [3, 13], linestyle = \"-.\", color = \"orange\")\n",
    "ax.set(title = \"test\", xlim = (0, 20), ylim = (5, 13), alpha = 0.1)"
   ]
  },
  {
   "cell_type": "markdown",
   "metadata": {},
   "source": [
    "## Using Pandas"
   ]
  },
  {
   "cell_type": "code",
   "execution_count": 113,
   "metadata": {},
   "outputs": [
    {
     "data": {
      "text/plain": [
       "[<matplotlib.lines.Line2D at 0x1a1f432b70>]"
      ]
     },
     "execution_count": 113,
     "metadata": {},
     "output_type": "execute_result"
    },
    {
     "data": {
      "image/png": "[encoded data removed]",
      "text/plain": [
       "<Figure size 432x288 with 4 Axes>"
      ]
     },
     "metadata": {
      "needs_background": "light"
     },
     "output_type": "display_data"
    }
   ],
   "source": [
    "fig, axes = plt.subplots(2, 2)\n",
    "anscombe_df.blot(kind = 'scatter', x = 'x1', y = 'y1', ax = axes[0,0])\n",
    "anscombe_df.plot(kind = 'scatter', x = 'x2', y = 'y2', ax = axes[0,1])\n",
    "anscombe_df.plot(kind = 'scatter', x = 'x3', y = 'y3', ax = axes[1,0])\n",
    "anscombe_df.plot(kind = 'scatter', x = 'x4', y = 'y4', ax = axes[1,1])\n",
    "axes[1,0].plot([0, 20],[3, 13], linestyle = \"--\", color = \"orange\")"
   ]
  },
  {
   "cell_type": "markdown",
   "metadata": {},
   "source": [
    "## Using Seaborn"
   ]
  },
  {
   "cell_type": "markdown",
   "metadata": {},
   "source": [
    "Seaborn wants the data to be shaped in *long* form to get the same type of *facet* behavior.\n",
    "\n",
    "Therefore, we can transform the data for the plot -- this is a really common operation"
   ]
  },
  {
   "cell_type": "code",
   "execution_count": 115,
   "metadata": {
    "scrolled": true
   },
   "outputs": [
    {
     "data": {
      "text/html": [
       "<div>\n",
       "<style scoped>\n",
       "    .dataframe tbody tr th:only-of-type {\n",
       "        vertical-align: middle;\n",
       "    }\n",
       "\n",
       "    .dataframe tbody tr th {\n",
       "        vertical-align: top;\n",
       "    }\n",
       "\n",
       "    .dataframe thead th {\n",
       "        text-align: right;\n",
       "    }\n",
       "</style>\n",
       "<table border=\"1\" class=\"dataframe\">\n",
       "  <thead>\n",
       "    <tr style=\"text-align: right;\">\n",
       "      <th></th>\n",
       "      <th>x1</th>\n",
       "      <th>x2</th>\n",
       "      <th>x3</th>\n",
       "      <th>x4</th>\n",
       "      <th>y1</th>\n",
       "      <th>y2</th>\n",
       "      <th>y3</th>\n",
       "      <th>y4</th>\n",
       "    </tr>\n",
       "  </thead>\n",
       "  <tbody>\n",
       "    <tr>\n",
       "      <th>0</th>\n",
       "      <td>10</td>\n",
       "      <td>10</td>\n",
       "      <td>10</td>\n",
       "      <td>8</td>\n",
       "      <td>8.04</td>\n",
       "      <td>9.14</td>\n",
       "      <td>7.46</td>\n",
       "      <td>6.58</td>\n",
       "    </tr>\n",
       "    <tr>\n",
       "      <th>1</th>\n",
       "      <td>8</td>\n",
       "      <td>8</td>\n",
       "      <td>8</td>\n",
       "      <td>8</td>\n",
       "      <td>6.95</td>\n",
       "      <td>8.14</td>\n",
       "      <td>6.77</td>\n",
       "      <td>5.76</td>\n",
       "    </tr>\n",
       "    <tr>\n",
       "      <th>2</th>\n",
       "      <td>13</td>\n",
       "      <td>13</td>\n",
       "      <td>13</td>\n",
       "      <td>8</td>\n",
       "      <td>7.58</td>\n",
       "      <td>8.74</td>\n",
       "      <td>12.74</td>\n",
       "      <td>7.71</td>\n",
       "    </tr>\n",
       "    <tr>\n",
       "      <th>3</th>\n",
       "      <td>9</td>\n",
       "      <td>9</td>\n",
       "      <td>9</td>\n",
       "      <td>8</td>\n",
       "      <td>8.81</td>\n",
       "      <td>8.77</td>\n",
       "      <td>7.11</td>\n",
       "      <td>8.84</td>\n",
       "    </tr>\n",
       "    <tr>\n",
       "      <th>4</th>\n",
       "      <td>11</td>\n",
       "      <td>11</td>\n",
       "      <td>11</td>\n",
       "      <td>8</td>\n",
       "      <td>8.33</td>\n",
       "      <td>9.26</td>\n",
       "      <td>7.81</td>\n",
       "      <td>8.47</td>\n",
       "    </tr>\n",
       "    <tr>\n",
       "      <th>5</th>\n",
       "      <td>14</td>\n",
       "      <td>14</td>\n",
       "      <td>14</td>\n",
       "      <td>8</td>\n",
       "      <td>9.96</td>\n",
       "      <td>8.10</td>\n",
       "      <td>8.84</td>\n",
       "      <td>7.04</td>\n",
       "    </tr>\n",
       "    <tr>\n",
       "      <th>6</th>\n",
       "      <td>6</td>\n",
       "      <td>6</td>\n",
       "      <td>6</td>\n",
       "      <td>8</td>\n",
       "      <td>7.24</td>\n",
       "      <td>6.13</td>\n",
       "      <td>6.08</td>\n",
       "      <td>5.25</td>\n",
       "    </tr>\n",
       "    <tr>\n",
       "      <th>7</th>\n",
       "      <td>4</td>\n",
       "      <td>4</td>\n",
       "      <td>4</td>\n",
       "      <td>19</td>\n",
       "      <td>4.26</td>\n",
       "      <td>3.10</td>\n",
       "      <td>5.39</td>\n",
       "      <td>12.50</td>\n",
       "    </tr>\n",
       "    <tr>\n",
       "      <th>8</th>\n",
       "      <td>12</td>\n",
       "      <td>12</td>\n",
       "      <td>12</td>\n",
       "      <td>8</td>\n",
       "      <td>10.84</td>\n",
       "      <td>9.13</td>\n",
       "      <td>8.15</td>\n",
       "      <td>5.56</td>\n",
       "    </tr>\n",
       "    <tr>\n",
       "      <th>9</th>\n",
       "      <td>7</td>\n",
       "      <td>7</td>\n",
       "      <td>7</td>\n",
       "      <td>8</td>\n",
       "      <td>4.82</td>\n",
       "      <td>7.26</td>\n",
       "      <td>6.42</td>\n",
       "      <td>7.91</td>\n",
       "    </tr>\n",
       "    <tr>\n",
       "      <th>10</th>\n",
       "      <td>5</td>\n",
       "      <td>5</td>\n",
       "      <td>5</td>\n",
       "      <td>8</td>\n",
       "      <td>5.68</td>\n",
       "      <td>4.74</td>\n",
       "      <td>5.73</td>\n",
       "      <td>6.89</td>\n",
       "    </tr>\n",
       "  </tbody>\n",
       "</table>\n",
       "</div>"
      ],
      "text/plain": [
       "    x1  x2  x3  x4     y1    y2     y3     y4\n",
       "0   10  10  10   8   8.04  9.14   7.46   6.58\n",
       "1    8   8   8   8   6.95  8.14   6.77   5.76\n",
       "2   13  13  13   8   7.58  8.74  12.74   7.71\n",
       "3    9   9   9   8   8.81  8.77   7.11   8.84\n",
       "4   11  11  11   8   8.33  9.26   7.81   8.47\n",
       "5   14  14  14   8   9.96  8.10   8.84   7.04\n",
       "6    6   6   6   8   7.24  6.13   6.08   5.25\n",
       "7    4   4   4  19   4.26  3.10   5.39  12.50\n",
       "8   12  12  12   8  10.84  9.13   8.15   5.56\n",
       "9    7   7   7   8   4.82  7.26   6.42   7.91\n",
       "10   5   5   5   8   5.68  4.74   5.73   6.89"
      ]
     },
     "execution_count": 115,
     "metadata": {},
     "output_type": "execute_result"
    }
   ],
   "source": [
    "anscombe_df"
   ]
  },
  {
   "cell_type": "code",
   "execution_count": 126,
   "metadata": {},
   "outputs": [],
   "source": [
    "x = np.concatenate([anscombe_df[col].values for col in anscombe_df if 'x' in col])\n",
    "y = np.concatenate([anscombe_df[col].values for col in anscombe_df if 'y' in col])\n",
    "groups = [1] * anscombe_df.shape[0] + [2] * anscombe_df.shape[0] + [3]  * anscombe_df.shape[0] + [4] * anscombe_df.shape[0]\n"
   ]
  },
  {
   "cell_type": "code",
   "execution_count": 131,
   "metadata": {},
   "outputs": [],
   "source": [
    "plot_df = pd.DataFrame({'x': x, 'y': y, 'groups':groups})"
   ]
  },
  {
   "cell_type": "code",
   "execution_count": 132,
   "metadata": {},
   "outputs": [
    {
     "data": {
      "text/html": [
       "<div>\n",
       "<style scoped>\n",
       "    .dataframe tbody tr th:only-of-type {\n",
       "        vertical-align: middle;\n",
       "    }\n",
       "\n",
       "    .dataframe tbody tr th {\n",
       "        vertical-align: top;\n",
       "    }\n",
       "\n",
       "    .dataframe thead th {\n",
       "        text-align: right;\n",
       "    }\n",
       "</style>\n",
       "<table border=\"1\" class=\"dataframe\">\n",
       "  <thead>\n",
       "    <tr style=\"text-align: right;\">\n",
       "      <th></th>\n",
       "      <th>x</th>\n",
       "      <th>y</th>\n",
       "      <th>groups</th>\n",
       "    </tr>\n",
       "  </thead>\n",
       "  <tbody>\n",
       "    <tr>\n",
       "      <th>0</th>\n",
       "      <td>10</td>\n",
       "      <td>8.04</td>\n",
       "      <td>1</td>\n",
       "    </tr>\n",
       "    <tr>\n",
       "      <th>1</th>\n",
       "      <td>8</td>\n",
       "      <td>6.95</td>\n",
       "      <td>1</td>\n",
       "    </tr>\n",
       "    <tr>\n",
       "      <th>2</th>\n",
       "      <td>13</td>\n",
       "      <td>7.58</td>\n",
       "      <td>1</td>\n",
       "    </tr>\n",
       "    <tr>\n",
       "      <th>3</th>\n",
       "      <td>9</td>\n",
       "      <td>8.81</td>\n",
       "      <td>1</td>\n",
       "    </tr>\n",
       "    <tr>\n",
       "      <th>4</th>\n",
       "      <td>11</td>\n",
       "      <td>8.33</td>\n",
       "      <td>1</td>\n",
       "    </tr>\n",
       "    <tr>\n",
       "      <th>5</th>\n",
       "      <td>14</td>\n",
       "      <td>9.96</td>\n",
       "      <td>1</td>\n",
       "    </tr>\n",
       "    <tr>\n",
       "      <th>6</th>\n",
       "      <td>6</td>\n",
       "      <td>7.24</td>\n",
       "      <td>1</td>\n",
       "    </tr>\n",
       "    <tr>\n",
       "      <th>7</th>\n",
       "      <td>4</td>\n",
       "      <td>4.26</td>\n",
       "      <td>1</td>\n",
       "    </tr>\n",
       "    <tr>\n",
       "      <th>8</th>\n",
       "      <td>12</td>\n",
       "      <td>10.84</td>\n",
       "      <td>1</td>\n",
       "    </tr>\n",
       "    <tr>\n",
       "      <th>9</th>\n",
       "      <td>7</td>\n",
       "      <td>4.82</td>\n",
       "      <td>1</td>\n",
       "    </tr>\n",
       "    <tr>\n",
       "      <th>10</th>\n",
       "      <td>5</td>\n",
       "      <td>5.68</td>\n",
       "      <td>1</td>\n",
       "    </tr>\n",
       "    <tr>\n",
       "      <th>11</th>\n",
       "      <td>10</td>\n",
       "      <td>9.14</td>\n",
       "      <td>2</td>\n",
       "    </tr>\n",
       "    <tr>\n",
       "      <th>12</th>\n",
       "      <td>8</td>\n",
       "      <td>8.14</td>\n",
       "      <td>2</td>\n",
       "    </tr>\n",
       "    <tr>\n",
       "      <th>13</th>\n",
       "      <td>13</td>\n",
       "      <td>8.74</td>\n",
       "      <td>2</td>\n",
       "    </tr>\n",
       "    <tr>\n",
       "      <th>14</th>\n",
       "      <td>9</td>\n",
       "      <td>8.77</td>\n",
       "      <td>2</td>\n",
       "    </tr>\n",
       "    <tr>\n",
       "      <th>15</th>\n",
       "      <td>11</td>\n",
       "      <td>9.26</td>\n",
       "      <td>2</td>\n",
       "    </tr>\n",
       "    <tr>\n",
       "      <th>16</th>\n",
       "      <td>14</td>\n",
       "      <td>8.10</td>\n",
       "      <td>2</td>\n",
       "    </tr>\n",
       "    <tr>\n",
       "      <th>17</th>\n",
       "      <td>6</td>\n",
       "      <td>6.13</td>\n",
       "      <td>2</td>\n",
       "    </tr>\n",
       "    <tr>\n",
       "      <th>18</th>\n",
       "      <td>4</td>\n",
       "      <td>3.10</td>\n",
       "      <td>2</td>\n",
       "    </tr>\n",
       "    <tr>\n",
       "      <th>19</th>\n",
       "      <td>12</td>\n",
       "      <td>9.13</td>\n",
       "      <td>2</td>\n",
       "    </tr>\n",
       "    <tr>\n",
       "      <th>20</th>\n",
       "      <td>7</td>\n",
       "      <td>7.26</td>\n",
       "      <td>2</td>\n",
       "    </tr>\n",
       "    <tr>\n",
       "      <th>21</th>\n",
       "      <td>5</td>\n",
       "      <td>4.74</td>\n",
       "      <td>2</td>\n",
       "    </tr>\n",
       "    <tr>\n",
       "      <th>22</th>\n",
       "      <td>10</td>\n",
       "      <td>7.46</td>\n",
       "      <td>3</td>\n",
       "    </tr>\n",
       "    <tr>\n",
       "      <th>23</th>\n",
       "      <td>8</td>\n",
       "      <td>6.77</td>\n",
       "      <td>3</td>\n",
       "    </tr>\n",
       "    <tr>\n",
       "      <th>24</th>\n",
       "      <td>13</td>\n",
       "      <td>12.74</td>\n",
       "      <td>3</td>\n",
       "    </tr>\n",
       "    <tr>\n",
       "      <th>25</th>\n",
       "      <td>9</td>\n",
       "      <td>7.11</td>\n",
       "      <td>3</td>\n",
       "    </tr>\n",
       "    <tr>\n",
       "      <th>26</th>\n",
       "      <td>11</td>\n",
       "      <td>7.81</td>\n",
       "      <td>3</td>\n",
       "    </tr>\n",
       "    <tr>\n",
       "      <th>27</th>\n",
       "      <td>14</td>\n",
       "      <td>8.84</td>\n",
       "      <td>3</td>\n",
       "    </tr>\n",
       "    <tr>\n",
       "      <th>28</th>\n",
       "      <td>6</td>\n",
       "      <td>6.08</td>\n",
       "      <td>3</td>\n",
       "    </tr>\n",
       "    <tr>\n",
       "      <th>29</th>\n",
       "      <td>4</td>\n",
       "      <td>5.39</td>\n",
       "      <td>3</td>\n",
       "    </tr>\n",
       "    <tr>\n",
       "      <th>30</th>\n",
       "      <td>12</td>\n",
       "      <td>8.15</td>\n",
       "      <td>3</td>\n",
       "    </tr>\n",
       "    <tr>\n",
       "      <th>31</th>\n",
       "      <td>7</td>\n",
       "      <td>6.42</td>\n",
       "      <td>3</td>\n",
       "    </tr>\n",
       "    <tr>\n",
       "      <th>32</th>\n",
       "      <td>5</td>\n",
       "      <td>5.73</td>\n",
       "      <td>3</td>\n",
       "    </tr>\n",
       "    <tr>\n",
       "      <th>33</th>\n",
       "      <td>8</td>\n",
       "      <td>6.58</td>\n",
       "      <td>4</td>\n",
       "    </tr>\n",
       "    <tr>\n",
       "      <th>34</th>\n",
       "      <td>8</td>\n",
       "      <td>5.76</td>\n",
       "      <td>4</td>\n",
       "    </tr>\n",
       "    <tr>\n",
       "      <th>35</th>\n",
       "      <td>8</td>\n",
       "      <td>7.71</td>\n",
       "      <td>4</td>\n",
       "    </tr>\n",
       "    <tr>\n",
       "      <th>36</th>\n",
       "      <td>8</td>\n",
       "      <td>8.84</td>\n",
       "      <td>4</td>\n",
       "    </tr>\n",
       "    <tr>\n",
       "      <th>37</th>\n",
       "      <td>8</td>\n",
       "      <td>8.47</td>\n",
       "      <td>4</td>\n",
       "    </tr>\n",
       "    <tr>\n",
       "      <th>38</th>\n",
       "      <td>8</td>\n",
       "      <td>7.04</td>\n",
       "      <td>4</td>\n",
       "    </tr>\n",
       "    <tr>\n",
       "      <th>39</th>\n",
       "      <td>8</td>\n",
       "      <td>5.25</td>\n",
       "      <td>4</td>\n",
       "    </tr>\n",
       "    <tr>\n",
       "      <th>40</th>\n",
       "      <td>19</td>\n",
       "      <td>12.50</td>\n",
       "      <td>4</td>\n",
       "    </tr>\n",
       "    <tr>\n",
       "      <th>41</th>\n",
       "      <td>8</td>\n",
       "      <td>5.56</td>\n",
       "      <td>4</td>\n",
       "    </tr>\n",
       "    <tr>\n",
       "      <th>42</th>\n",
       "      <td>8</td>\n",
       "      <td>7.91</td>\n",
       "      <td>4</td>\n",
       "    </tr>\n",
       "    <tr>\n",
       "      <th>43</th>\n",
       "      <td>8</td>\n",
       "      <td>6.89</td>\n",
       "      <td>4</td>\n",
       "    </tr>\n",
       "  </tbody>\n",
       "</table>\n",
       "</div>"
      ],
      "text/plain": [
       "     x      y  groups\n",
       "0   10   8.04       1\n",
       "1    8   6.95       1\n",
       "2   13   7.58       1\n",
       "3    9   8.81       1\n",
       "4   11   8.33       1\n",
       "5   14   9.96       1\n",
       "6    6   7.24       1\n",
       "7    4   4.26       1\n",
       "8   12  10.84       1\n",
       "9    7   4.82       1\n",
       "10   5   5.68       1\n",
       "11  10   9.14       2\n",
       "12   8   8.14       2\n",
       "13  13   8.74       2\n",
       "14   9   8.77       2\n",
       "15  11   9.26       2\n",
       "16  14   8.10       2\n",
       "17   6   6.13       2\n",
       "18   4   3.10       2\n",
       "19  12   9.13       2\n",
       "20   7   7.26       2\n",
       "21   5   4.74       2\n",
       "22  10   7.46       3\n",
       "23   8   6.77       3\n",
       "24  13  12.74       3\n",
       "25   9   7.11       3\n",
       "26  11   7.81       3\n",
       "27  14   8.84       3\n",
       "28   6   6.08       3\n",
       "29   4   5.39       3\n",
       "30  12   8.15       3\n",
       "31   7   6.42       3\n",
       "32   5   5.73       3\n",
       "33   8   6.58       4\n",
       "34   8   5.76       4\n",
       "35   8   7.71       4\n",
       "36   8   8.84       4\n",
       "37   8   8.47       4\n",
       "38   8   7.04       4\n",
       "39   8   5.25       4\n",
       "40  19  12.50       4\n",
       "41   8   5.56       4\n",
       "42   8   7.91       4\n",
       "43   8   6.89       4"
      ]
     },
     "execution_count": 132,
     "metadata": {},
     "output_type": "execute_result"
    }
   ],
   "source": [
    "plot_df"
   ]
  },
  {
   "cell_type": "code",
   "execution_count": 165,
   "metadata": {},
   "outputs": [
    {
     "data": {
      "image/png": "[encoded data removed]",
      "text/plain": [
       "<Figure size 790.375x720 with 4 Axes>"
      ]
     },
     "metadata": {
      "needs_background": "light"
     },
     "output_type": "display_data"
    }
   ],
   "source": [
    "facet_plot = sns.relplot(x = \"x\", y = \"y\", hue = \"groups\",  col = \"groups\", col_wrap = 2, data = plot_df, palette = sns.color_palette('bright', 4))"
   ]
  },
  {
   "cell_type": "code",
   "execution_count": 179,
   "metadata": {},
   "outputs": [
    {
     "data": {
      "text/html": [
       "<div>\n",
       "<style scoped>\n",
       "    .dataframe tbody tr th:only-of-type {\n",
       "        vertical-align: middle;\n",
       "    }\n",
       "\n",
       "    .dataframe tbody tr th {\n",
       "        vertical-align: top;\n",
       "    }\n",
       "\n",
       "    .dataframe thead th {\n",
       "        text-align: right;\n",
       "    }\n",
       "</style>\n",
       "<table border=\"1\" class=\"dataframe\">\n",
       "  <thead>\n",
       "    <tr style=\"text-align: right;\">\n",
       "      <th></th>\n",
       "      <th>bacteria</th>\n",
       "      <th>gram</th>\n",
       "      <th>neomycin</th>\n",
       "      <th>penicillin</th>\n",
       "      <th>streptomycin</th>\n",
       "    </tr>\n",
       "  </thead>\n",
       "  <tbody>\n",
       "    <tr>\n",
       "      <th>0</th>\n",
       "      <td>Mycobacterium tuberculosis</td>\n",
       "      <td>negative</td>\n",
       "      <td>2.000</td>\n",
       "      <td>800.000</td>\n",
       "      <td>5.00</td>\n",
       "    </tr>\n",
       "    <tr>\n",
       "      <th>1</th>\n",
       "      <td>Salmonella schottmuelleri</td>\n",
       "      <td>negative</td>\n",
       "      <td>0.090</td>\n",
       "      <td>10.000</td>\n",
       "      <td>0.80</td>\n",
       "    </tr>\n",
       "    <tr>\n",
       "      <th>2</th>\n",
       "      <td>Proteus vulgaris</td>\n",
       "      <td>negative</td>\n",
       "      <td>0.100</td>\n",
       "      <td>3.000</td>\n",
       "      <td>0.10</td>\n",
       "    </tr>\n",
       "    <tr>\n",
       "      <th>3</th>\n",
       "      <td>Klebsiella pneumoniae</td>\n",
       "      <td>negative</td>\n",
       "      <td>1.000</td>\n",
       "      <td>850.000</td>\n",
       "      <td>1.20</td>\n",
       "    </tr>\n",
       "    <tr>\n",
       "      <th>4</th>\n",
       "      <td>Brucella abortus</td>\n",
       "      <td>negative</td>\n",
       "      <td>0.020</td>\n",
       "      <td>1.000</td>\n",
       "      <td>2.00</td>\n",
       "    </tr>\n",
       "    <tr>\n",
       "      <th>5</th>\n",
       "      <td>Pseudomonas aeruginosa</td>\n",
       "      <td>negative</td>\n",
       "      <td>0.400</td>\n",
       "      <td>850.000</td>\n",
       "      <td>2.00</td>\n",
       "    </tr>\n",
       "    <tr>\n",
       "      <th>6</th>\n",
       "      <td>Escherichia coli</td>\n",
       "      <td>negative</td>\n",
       "      <td>0.100</td>\n",
       "      <td>100.000</td>\n",
       "      <td>0.40</td>\n",
       "    </tr>\n",
       "    <tr>\n",
       "      <th>7</th>\n",
       "      <td>Salmonella (Eberthella) typhosa</td>\n",
       "      <td>negative</td>\n",
       "      <td>0.008</td>\n",
       "      <td>1.000</td>\n",
       "      <td>0.40</td>\n",
       "    </tr>\n",
       "    <tr>\n",
       "      <th>8</th>\n",
       "      <td>Aerobacter aerogenes</td>\n",
       "      <td>negative</td>\n",
       "      <td>1.600</td>\n",
       "      <td>870.000</td>\n",
       "      <td>1.00</td>\n",
       "    </tr>\n",
       "    <tr>\n",
       "      <th>9</th>\n",
       "      <td>Brucella antracis</td>\n",
       "      <td>positive</td>\n",
       "      <td>0.007</td>\n",
       "      <td>0.001</td>\n",
       "      <td>0.01</td>\n",
       "    </tr>\n",
       "    <tr>\n",
       "      <th>10</th>\n",
       "      <td>Streptococcus fecalis</td>\n",
       "      <td>positive</td>\n",
       "      <td>0.100</td>\n",
       "      <td>1.000</td>\n",
       "      <td>1.00</td>\n",
       "    </tr>\n",
       "    <tr>\n",
       "      <th>11</th>\n",
       "      <td>Staphylococcus aureus</td>\n",
       "      <td>positive</td>\n",
       "      <td>0.001</td>\n",
       "      <td>0.030</td>\n",
       "      <td>0.03</td>\n",
       "    </tr>\n",
       "    <tr>\n",
       "      <th>12</th>\n",
       "      <td>Staphylococcus albus</td>\n",
       "      <td>positive</td>\n",
       "      <td>0.001</td>\n",
       "      <td>0.007</td>\n",
       "      <td>0.10</td>\n",
       "    </tr>\n",
       "    <tr>\n",
       "      <th>13</th>\n",
       "      <td>Streptococcus hemolyticus</td>\n",
       "      <td>positive</td>\n",
       "      <td>10.000</td>\n",
       "      <td>0.001</td>\n",
       "      <td>14.00</td>\n",
       "    </tr>\n",
       "    <tr>\n",
       "      <th>14</th>\n",
       "      <td>Streptococcus viridans</td>\n",
       "      <td>positive</td>\n",
       "      <td>40.000</td>\n",
       "      <td>0.005</td>\n",
       "      <td>10.00</td>\n",
       "    </tr>\n",
       "    <tr>\n",
       "      <th>15</th>\n",
       "      <td>Diplococcus pneumoniae</td>\n",
       "      <td>positive</td>\n",
       "      <td>10.000</td>\n",
       "      <td>0.005</td>\n",
       "      <td>11.00</td>\n",
       "    </tr>\n",
       "  </tbody>\n",
       "</table>\n",
       "</div>"
      ],
      "text/plain": [
       "                           bacteria      gram  neomycin  penicillin  \\\n",
       "0        Mycobacterium tuberculosis  negative     2.000     800.000   \n",
       "1         Salmonella schottmuelleri  negative     0.090      10.000   \n",
       "2                  Proteus vulgaris  negative     0.100       3.000   \n",
       "3             Klebsiella pneumoniae  negative     1.000     850.000   \n",
       "4                  Brucella abortus  negative     0.020       1.000   \n",
       "5            Pseudomonas aeruginosa  negative     0.400     850.000   \n",
       "6                  Escherichia coli  negative     0.100     100.000   \n",
       "7   Salmonella (Eberthella) typhosa  negative     0.008       1.000   \n",
       "8              Aerobacter aerogenes  negative     1.600     870.000   \n",
       "9                 Brucella antracis  positive     0.007       0.001   \n",
       "10            Streptococcus fecalis  positive     0.100       1.000   \n",
       "11            Staphylococcus aureus  positive     0.001       0.030   \n",
       "12             Staphylococcus albus  positive     0.001       0.007   \n",
       "13        Streptococcus hemolyticus  positive    10.000       0.001   \n",
       "14           Streptococcus viridans  positive    40.000       0.005   \n",
       "15           Diplococcus pneumoniae  positive    10.000       0.005   \n",
       "\n",
       "    streptomycin  \n",
       "0           5.00  \n",
       "1           0.80  \n",
       "2           0.10  \n",
       "3           1.20  \n",
       "4           2.00  \n",
       "5           2.00  \n",
       "6           0.40  \n",
       "7           0.40  \n",
       "8           1.00  \n",
       "9           0.01  \n",
       "10          1.00  \n",
       "11          0.03  \n",
       "12          0.10  \n",
       "13         14.00  \n",
       "14         10.00  \n",
       "15         11.00  "
      ]
     },
     "execution_count": 179,
     "metadata": {},
     "output_type": "execute_result"
    }
   ],
   "source": [
    "antibiotics = [\n",
    "  { \"bacteria\": \"Mycobacterium tuberculosis\", \"penicillin\": 800, \"streptomycin\": 5, \"neomycin\": 2, \"gram\": \"negative\" },\n",
    "  { \"bacteria\": \"Salmonella schottmuelleri\", \"penicillin\": 10, \"streptomycin\": 0.8, \"neomycin\": 0.09, \"gram\": \"negative\" },\n",
    "  { \"bacteria\": \"Proteus vulgaris\", \"penicillin\": 3, \"streptomycin\": 0.1, \"neomycin\": 0.1, \"gram\": \"negative\" },\n",
    "  { \"bacteria\": \"Klebsiella pneumoniae\", \"penicillin\": 850, \"streptomycin\": 1.2, \"neomycin\": 1, \"gram\": \"negative\" },\n",
    "  { \"bacteria\": \"Brucella abortus\", \"penicillin\": 1, \"streptomycin\": 2, \"neomycin\": 0.02, \"gram\": \"negative\" },\n",
    "  { \"bacteria\": \"Pseudomonas aeruginosa\", \"penicillin\": 850, \"streptomycin\": 2, \"neomycin\": 0.4, \"gram\": \"negative\" },\n",
    "  { \"bacteria\": \"Escherichia coli\", \"penicillin\": 100, \"streptomycin\": 0.4, \"neomycin\": 0.1, \"gram\": \"negative\" },\n",
    "  { \"bacteria\": \"Salmonella (Eberthella) typhosa\", \"penicillin\": 1, \"streptomycin\": 0.4, \"neomycin\": 0.008, \"gram\": \"negative\" },\n",
    "  { \"bacteria\": \"Aerobacter aerogenes\", \"penicillin\": 870, \"streptomycin\": 1, \"neomycin\": 1.6, \"gram\": \"negative\" },\n",
    "  { \"bacteria\": \"Brucella antracis\", \"penicillin\": 0.001, \"streptomycin\": 0.01, \"neomycin\": 0.007, \"gram\": \"positive\" },\n",
    "  { \"bacteria\": \"Streptococcus fecalis\", \"penicillin\": 1, \"streptomycin\": 1, \"neomycin\": 0.1, \"gram\": \"positive\" },\n",
    "  { \"bacteria\": \"Staphylococcus aureus\", \"penicillin\": 0.03, \"streptomycin\": 0.03, \"neomycin\": 0.001, \"gram\": \"positive\" },\n",
    "  { \"bacteria\": \"Staphylococcus albus\", \"penicillin\": 0.007, \"streptomycin\": 0.1, \"neomycin\": 0.001, \"gram\": \"positive\" },\n",
    "  { \"bacteria\": \"Streptococcus hemolyticus\", \"penicillin\": 0.001, \"streptomycin\": 14, \"neomycin\": 10, \"gram\": \"positive\" },\n",
    "  { \"bacteria\": \"Streptococcus viridans\", \"penicillin\": 0.005, \"streptomycin\": 10, \"neomycin\": 40, \"gram\": \"positive\" },\n",
    "  { \"bacteria\": \"Diplococcus pneumoniae\", \"penicillin\": 0.005, \"streptomycin\": 11, \"neomycin\": 10, \"gram\": \"positive\" }\n",
    "]\n",
    "abx_df = pd.DataFrame.from_records(antibiotics)\n",
    "abx_df"
   ]
  },
  {
   "cell_type": "markdown",
   "metadata": {},
   "source": [
    "## Univariate analysis:"
   ]
  },
  {
   "cell_type": "code",
   "execution_count": 186,
   "metadata": {
    "scrolled": false
   },
   "outputs": [
    {
     "data": {
      "text/plain": [
       "array([<matplotlib.axes._subplots.AxesSubplot object at 0x1a277f96d8>],\n",
       "      dtype=object)"
      ]
     },
     "execution_count": 186,
     "metadata": {},
     "output_type": "execute_result"
    },
    {
     "data": {
      "image/png": "[encoded data removed]",
      "text/plain": [
       "<Figure size 640x480 with 1 Axes>"
      ]
     },
     "metadata": {},
     "output_type": "display_data"
    }
   ],
   "source": [
    "fig, ax = plt.subplots()\n",
    "abx_df.hist('neomycin', ax = ax)"
   ]
  },
  {
   "cell_type": "code",
   "execution_count": 187,
   "metadata": {},
   "outputs": [
    {
     "data": {
      "text/plain": [
       "array([[<matplotlib.axes._subplots.AxesSubplot object at 0x1a27d72898>]],\n",
       "      dtype=object)"
      ]
     },
     "execution_count": 187,
     "metadata": {},
     "output_type": "execute_result"
    },
    {
     "data": {
      "image/png": "[encoded data removed]",
      "text/plain": [
       "<Figure size 640x480 with 1 Axes>"
      ]
     },
     "metadata": {},
     "output_type": "display_data"
    }
   ],
   "source": [
    "abx_df.hist('penicillin')"
   ]
  },
  {
   "cell_type": "code",
   "execution_count": 188,
   "metadata": {},
   "outputs": [
    {
     "data": {
      "text/plain": [
       "array([[<matplotlib.axes._subplots.AxesSubplot object at 0x1a1fc6dcc0>]],\n",
       "      dtype=object)"
      ]
     },
     "execution_count": 188,
     "metadata": {},
     "output_type": "execute_result"
    },
    {
     "data": {
      "image/png": "[encoded data removed]",
      "text/plain": [
       "<Figure size 640x480 with 1 Axes>"
      ]
     },
     "metadata": {},
     "output_type": "display_data"
    }
   ],
   "source": [
    "abx_df.hist('streptomycin')"
   ]
  },
  {
   "cell_type": "code",
   "execution_count": 192,
   "metadata": {},
   "outputs": [
    {
     "data": {
      "text/plain": [
       "<matplotlib.axes._subplots.AxesSubplot at 0x1a20f6ada0>"
      ]
     },
     "execution_count": 192,
     "metadata": {},
     "output_type": "execute_result"
    },
    {
     "data": {
      "image/png": "[encoded data removed]",
      "text/plain": [
       "<Figure size 640x480 with 1 Axes>"
      ]
     },
     "metadata": {},
     "output_type": "display_data"
    }
   ],
   "source": [
    "abx_df['neomycin'].plot(kind = \"box\")"
   ]
  },
  {
   "cell_type": "code",
   "execution_count": 207,
   "metadata": {
    "scrolled": true
   },
   "outputs": [
    {
     "data": {
      "text/plain": [
       "[(0, 50),\n",
       " Text(0,0.5,'Minimum inhibitory concetration'),\n",
       " Text(0.5,1,'Neomycin')]"
      ]
     },
     "execution_count": 207,
     "metadata": {},
     "output_type": "execute_result"
    },
    {
     "data": {
      "image/png": "[encoded data removed]",
      "text/plain": [
       "<Figure size 640x480 with 1 Axes>"
      ]
     },
     "metadata": {},
     "output_type": "display_data"
    }
   ],
   "source": [
    "neo_boxplot = sns.boxplot(\"neomycin\", data = abx_df, orient = 'v', width = 0.5)\n",
    "neo_boxplot.set(ylim = (0, 50), title = \"Neomycin\", ylabel = \"Minimum inhibitory concetration\")"
   ]
  },
  {
   "cell_type": "code",
   "execution_count": 210,
   "metadata": {
    "scrolled": true
   },
   "outputs": [
    {
     "data": {
      "text/plain": [
       "<matplotlib.axes._subplots.AxesSubplot at 0x1a20e61a20>"
      ]
     },
     "execution_count": 210,
     "metadata": {},
     "output_type": "execute_result"
    },
    {
     "data": {
      "image/png": "[encoded data removed]",
      "text/plain": [
       "<Figure size 640x480 with 1 Axes>"
      ]
     },
     "metadata": {},
     "output_type": "display_data"
    }
   ],
   "source": [
    "sns.boxplot(data = abx_df)"
   ]
  },
  {
   "cell_type": "code",
   "execution_count": 221,
   "metadata": {},
   "outputs": [],
   "source": [
    "# violinplot"
   ]
  },
  {
   "cell_type": "markdown",
   "metadata": {},
   "source": [
    "## Bivariate analysis - scatterplots"
   ]
  },
  {
   "cell_type": "code",
   "execution_count": 253,
   "metadata": {
    "scrolled": false
   },
   "outputs": [
    {
     "data": {
      "text/plain": [
       "<seaborn.axisgrid.FacetGrid at 0x1a2a5a5780>"
      ]
     },
     "execution_count": 253,
     "metadata": {},
     "output_type": "execute_result"
    },
    {
     "data": {
      "image/png": "[encoded data removed]",
      "text/plain": [
       "<Figure size 400x400 with 1 Axes>"
      ]
     },
     "metadata": {},
     "output_type": "display_data"
    }
   ],
   "source": [
    "sns.set_style(\"darkgrid\")\n",
    "sns.relplot(x = \"neomycin\", y = \"penicillin\", data = abx_df)"
   ]
  },
  {
   "cell_type": "code",
   "execution_count": 255,
   "metadata": {},
   "outputs": [],
   "source": [
    "import re\n",
    "genus = re.compile(r'\\w+')"
   ]
  },
  {
   "cell_type": "code",
   "execution_count": 260,
   "metadata": {},
   "outputs": [],
   "source": [
    "genus_list = [genus.search(x).group(0) for x in abx_df['bacteria'].values]\n",
    "genus_list = ['other' if x not in ['Salmonella', 'Streptococcus', 'Staphylococcus'] else x for x in genus_list]"
   ]
  },
  {
   "cell_type": "code",
   "execution_count": 261,
   "metadata": {
    "scrolled": true
   },
   "outputs": [
    {
     "data": {
      "text/plain": [
       "['other',\n",
       " 'Salmonella',\n",
       " 'other',\n",
       " 'other',\n",
       " 'other',\n",
       " 'other',\n",
       " 'other',\n",
       " 'Salmonella',\n",
       " 'other',\n",
       " 'other',\n",
       " 'Streptococcus',\n",
       " 'Staphylococcus',\n",
       " 'Staphylococcus',\n",
       " 'Streptococcus',\n",
       " 'Streptococcus',\n",
       " 'other']"
      ]
     },
     "execution_count": 261,
     "metadata": {},
     "output_type": "execute_result"
    }
   ],
   "source": [
    "genus_list"
   ]
  },
  {
   "cell_type": "code",
   "execution_count": 262,
   "metadata": {},
   "outputs": [],
   "source": [
    "abx_df['genus'] = genus_list"
   ]
  },
  {
   "cell_type": "code",
   "execution_count": 263,
   "metadata": {},
   "outputs": [
    {
     "data": {
      "text/html": [
       "<div>\n",
       "<style scoped>\n",
       "    .dataframe tbody tr th:only-of-type {\n",
       "        vertical-align: middle;\n",
       "    }\n",
       "\n",
       "    .dataframe tbody tr th {\n",
       "        vertical-align: top;\n",
       "    }\n",
       "\n",
       "    .dataframe thead th {\n",
       "        text-align: right;\n",
       "    }\n",
       "</style>\n",
       "<table border=\"1\" class=\"dataframe\">\n",
       "  <thead>\n",
       "    <tr style=\"text-align: right;\">\n",
       "      <th></th>\n",
       "      <th>bacteria</th>\n",
       "      <th>gram</th>\n",
       "      <th>neomycin</th>\n",
       "      <th>penicillin</th>\n",
       "      <th>streptomycin</th>\n",
       "      <th>genus</th>\n",
       "    </tr>\n",
       "  </thead>\n",
       "  <tbody>\n",
       "    <tr>\n",
       "      <th>0</th>\n",
       "      <td>Mycobacterium tuberculosis</td>\n",
       "      <td>negative</td>\n",
       "      <td>2.000</td>\n",
       "      <td>800.000</td>\n",
       "      <td>5.00</td>\n",
       "      <td>other</td>\n",
       "    </tr>\n",
       "    <tr>\n",
       "      <th>1</th>\n",
       "      <td>Salmonella schottmuelleri</td>\n",
       "      <td>negative</td>\n",
       "      <td>0.090</td>\n",
       "      <td>10.000</td>\n",
       "      <td>0.80</td>\n",
       "      <td>Salmonella</td>\n",
       "    </tr>\n",
       "    <tr>\n",
       "      <th>2</th>\n",
       "      <td>Proteus vulgaris</td>\n",
       "      <td>negative</td>\n",
       "      <td>0.100</td>\n",
       "      <td>3.000</td>\n",
       "      <td>0.10</td>\n",
       "      <td>other</td>\n",
       "    </tr>\n",
       "    <tr>\n",
       "      <th>3</th>\n",
       "      <td>Klebsiella pneumoniae</td>\n",
       "      <td>negative</td>\n",
       "      <td>1.000</td>\n",
       "      <td>850.000</td>\n",
       "      <td>1.20</td>\n",
       "      <td>other</td>\n",
       "    </tr>\n",
       "    <tr>\n",
       "      <th>4</th>\n",
       "      <td>Brucella abortus</td>\n",
       "      <td>negative</td>\n",
       "      <td>0.020</td>\n",
       "      <td>1.000</td>\n",
       "      <td>2.00</td>\n",
       "      <td>other</td>\n",
       "    </tr>\n",
       "    <tr>\n",
       "      <th>5</th>\n",
       "      <td>Pseudomonas aeruginosa</td>\n",
       "      <td>negative</td>\n",
       "      <td>0.400</td>\n",
       "      <td>850.000</td>\n",
       "      <td>2.00</td>\n",
       "      <td>other</td>\n",
       "    </tr>\n",
       "    <tr>\n",
       "      <th>6</th>\n",
       "      <td>Escherichia coli</td>\n",
       "      <td>negative</td>\n",
       "      <td>0.100</td>\n",
       "      <td>100.000</td>\n",
       "      <td>0.40</td>\n",
       "      <td>other</td>\n",
       "    </tr>\n",
       "    <tr>\n",
       "      <th>7</th>\n",
       "      <td>Salmonella (Eberthella) typhosa</td>\n",
       "      <td>negative</td>\n",
       "      <td>0.008</td>\n",
       "      <td>1.000</td>\n",
       "      <td>0.40</td>\n",
       "      <td>Salmonella</td>\n",
       "    </tr>\n",
       "    <tr>\n",
       "      <th>8</th>\n",
       "      <td>Aerobacter aerogenes</td>\n",
       "      <td>negative</td>\n",
       "      <td>1.600</td>\n",
       "      <td>870.000</td>\n",
       "      <td>1.00</td>\n",
       "      <td>other</td>\n",
       "    </tr>\n",
       "    <tr>\n",
       "      <th>9</th>\n",
       "      <td>Brucella antracis</td>\n",
       "      <td>positive</td>\n",
       "      <td>0.007</td>\n",
       "      <td>0.001</td>\n",
       "      <td>0.01</td>\n",
       "      <td>other</td>\n",
       "    </tr>\n",
       "    <tr>\n",
       "      <th>10</th>\n",
       "      <td>Streptococcus fecalis</td>\n",
       "      <td>positive</td>\n",
       "      <td>0.100</td>\n",
       "      <td>1.000</td>\n",
       "      <td>1.00</td>\n",
       "      <td>Streptococcus</td>\n",
       "    </tr>\n",
       "    <tr>\n",
       "      <th>11</th>\n",
       "      <td>Staphylococcus aureus</td>\n",
       "      <td>positive</td>\n",
       "      <td>0.001</td>\n",
       "      <td>0.030</td>\n",
       "      <td>0.03</td>\n",
       "      <td>Staphylococcus</td>\n",
       "    </tr>\n",
       "    <tr>\n",
       "      <th>12</th>\n",
       "      <td>Staphylococcus albus</td>\n",
       "      <td>positive</td>\n",
       "      <td>0.001</td>\n",
       "      <td>0.007</td>\n",
       "      <td>0.10</td>\n",
       "      <td>Staphylococcus</td>\n",
       "    </tr>\n",
       "    <tr>\n",
       "      <th>13</th>\n",
       "      <td>Streptococcus hemolyticus</td>\n",
       "      <td>positive</td>\n",
       "      <td>10.000</td>\n",
       "      <td>0.001</td>\n",
       "      <td>14.00</td>\n",
       "      <td>Streptococcus</td>\n",
       "    </tr>\n",
       "    <tr>\n",
       "      <th>14</th>\n",
       "      <td>Streptococcus viridans</td>\n",
       "      <td>positive</td>\n",
       "      <td>40.000</td>\n",
       "      <td>0.005</td>\n",
       "      <td>10.00</td>\n",
       "      <td>Streptococcus</td>\n",
       "    </tr>\n",
       "    <tr>\n",
       "      <th>15</th>\n",
       "      <td>Diplococcus pneumoniae</td>\n",
       "      <td>positive</td>\n",
       "      <td>10.000</td>\n",
       "      <td>0.005</td>\n",
       "      <td>11.00</td>\n",
       "      <td>other</td>\n",
       "    </tr>\n",
       "  </tbody>\n",
       "</table>\n",
       "</div>"
      ],
      "text/plain": [
       "                           bacteria      gram  neomycin  penicillin  \\\n",
       "0        Mycobacterium tuberculosis  negative     2.000     800.000   \n",
       "1         Salmonella schottmuelleri  negative     0.090      10.000   \n",
       "2                  Proteus vulgaris  negative     0.100       3.000   \n",
       "3             Klebsiella pneumoniae  negative     1.000     850.000   \n",
       "4                  Brucella abortus  negative     0.020       1.000   \n",
       "5            Pseudomonas aeruginosa  negative     0.400     850.000   \n",
       "6                  Escherichia coli  negative     0.100     100.000   \n",
       "7   Salmonella (Eberthella) typhosa  negative     0.008       1.000   \n",
       "8              Aerobacter aerogenes  negative     1.600     870.000   \n",
       "9                 Brucella antracis  positive     0.007       0.001   \n",
       "10            Streptococcus fecalis  positive     0.100       1.000   \n",
       "11            Staphylococcus aureus  positive     0.001       0.030   \n",
       "12             Staphylococcus albus  positive     0.001       0.007   \n",
       "13        Streptococcus hemolyticus  positive    10.000       0.001   \n",
       "14           Streptococcus viridans  positive    40.000       0.005   \n",
       "15           Diplococcus pneumoniae  positive    10.000       0.005   \n",
       "\n",
       "    streptomycin           genus  \n",
       "0           5.00           other  \n",
       "1           0.80      Salmonella  \n",
       "2           0.10           other  \n",
       "3           1.20           other  \n",
       "4           2.00           other  \n",
       "5           2.00           other  \n",
       "6           0.40           other  \n",
       "7           0.40      Salmonella  \n",
       "8           1.00           other  \n",
       "9           0.01           other  \n",
       "10          1.00   Streptococcus  \n",
       "11          0.03  Staphylococcus  \n",
       "12          0.10  Staphylococcus  \n",
       "13         14.00   Streptococcus  \n",
       "14         10.00   Streptococcus  \n",
       "15         11.00           other  "
      ]
     },
     "execution_count": 263,
     "metadata": {},
     "output_type": "execute_result"
    }
   ],
   "source": [
    "abx_df"
   ]
  },
  {
   "cell_type": "code",
   "execution_count": 309,
   "metadata": {},
   "outputs": [
    {
     "data": {
      "image/png": "[encoded data removed]",
      "text/plain": [
       "<Figure size 640x480 with 1 Axes>"
      ]
     },
     "metadata": {},
     "output_type": "display_data"
    }
   ],
   "source": [
    "abx_plot = sns.scatterplot(x = \"neomycin\", y = \"penicillin\", data = abx_df, hue = \"genus\", s = 100)\n",
    "abx_plot.set(xlim = (10**(-4), 10**3))\n",
    "abx_plot.set(ylim = (10**(-4), 10**3))\n",
    "abx_plot.invert_yaxis()\n",
    "abx_plot.invert_xaxis()\n",
    "abx_plot.set(yscale = 'log')\n",
    "abx_plot.set(xscale = 'log')\n",
    "abx_plot.legend(frameon = True, loc = 'best')\n",
    "for row in abx_df.itertuples():\n",
    "    abx_plot.text(getattr(row, 'neomycin') + 0.1, row.penicillin, row.bacteria)\n",
    "    "
   ]
  },
  {
   "cell_type": "code",
   "execution_count": 298,
   "metadata": {},
   "outputs": [],
   "source": [
    "for row in abx_df.itertuples():\n",
    "    abx_plot.text(getattr(row, 'neomycin'), row.penicillin, row.bacteria)"
   ]
  },
  {
   "cell_type": "code",
   "execution_count": 270,
   "metadata": {},
   "outputs": [
    {
     "data": {
      "text/plain": [
       "[(0.0001, 10000)]"
      ]
     },
     "execution_count": 270,
     "metadata": {},
     "output_type": "execute_result"
    }
   ],
   "source": []
  },
  {
   "cell_type": "markdown",
   "metadata": {},
   "source": [
    "![](./data/alternativescatter.jpg)"
   ]
  },
  {
   "cell_type": "code",
   "execution_count": 228,
   "metadata": {},
   "outputs": [],
   "source": [
    "# pairplot"
   ]
  },
  {
   "cell_type": "markdown",
   "metadata": {},
   "source": [
    "# Thinking in groups:\n"
   ]
  },
  {
   "cell_type": "code",
   "execution_count": 31,
   "metadata": {},
   "outputs": [],
   "source": [
    "nitrogen_df = pd.read_csv(\"./data/Rayleigh Nitrogen.csv\")"
   ]
  },
  {
   "cell_type": "code",
   "execution_count": 32,
   "metadata": {},
   "outputs": [
    {
     "data": {
      "text/html": [
       "<div>\n",
       "<style scoped>\n",
       "    .dataframe tbody tr th:only-of-type {\n",
       "        vertical-align: middle;\n",
       "    }\n",
       "\n",
       "    .dataframe tbody tr th {\n",
       "        vertical-align: top;\n",
       "    }\n",
       "\n",
       "    .dataframe thead th {\n",
       "        text-align: right;\n",
       "    }\n",
       "</style>\n",
       "<table border=\"1\" class=\"dataframe\">\n",
       "  <thead>\n",
       "    <tr style=\"text-align: right;\">\n",
       "      <th></th>\n",
       "      <th>Origin Type</th>\n",
       "      <th>Method of extraction</th>\n",
       "      <th>Weight</th>\n",
       "      <th>Origin</th>\n",
       "      <th>Purifying Agent</th>\n",
       "      <th>Date</th>\n",
       "    </tr>\n",
       "  </thead>\n",
       "  <tbody>\n",
       "    <tr>\n",
       "      <th>0</th>\n",
       "      <td>Air</td>\n",
       "      <td>Hot copper</td>\n",
       "      <td>2.31035</td>\n",
       "      <td>Air</td>\n",
       "      <td>Hot copper</td>\n",
       "      <td>07/01/1892</td>\n",
       "    </tr>\n",
       "    <tr>\n",
       "      <th>1</th>\n",
       "      <td>Air</td>\n",
       "      <td>Hot copper</td>\n",
       "      <td>2.31026</td>\n",
       "      <td>Air</td>\n",
       "      <td>Hot copper</td>\n",
       "      <td>07/01/1892</td>\n",
       "    </tr>\n",
       "    <tr>\n",
       "      <th>2</th>\n",
       "      <td>Air</td>\n",
       "      <td>Hot copper</td>\n",
       "      <td>2.31024</td>\n",
       "      <td>Air</td>\n",
       "      <td>Hot copper</td>\n",
       "      <td>07/01/1892</td>\n",
       "    </tr>\n",
       "    <tr>\n",
       "      <th>3</th>\n",
       "      <td>Air</td>\n",
       "      <td>Hot copper</td>\n",
       "      <td>2.31012</td>\n",
       "      <td>Air</td>\n",
       "      <td>Hot copper</td>\n",
       "      <td>07/01/1892</td>\n",
       "    </tr>\n",
       "    <tr>\n",
       "      <th>4</th>\n",
       "      <td>Air</td>\n",
       "      <td>Hot copper</td>\n",
       "      <td>2.31027</td>\n",
       "      <td>Air</td>\n",
       "      <td>Hot copper</td>\n",
       "      <td>07/01/1892</td>\n",
       "    </tr>\n",
       "    <tr>\n",
       "      <th>5</th>\n",
       "      <td>Air</td>\n",
       "      <td>Hot iron</td>\n",
       "      <td>2.31017</td>\n",
       "      <td>Air</td>\n",
       "      <td>Hot iron</td>\n",
       "      <td>12/12/1893</td>\n",
       "    </tr>\n",
       "    <tr>\n",
       "      <th>6</th>\n",
       "      <td>Air</td>\n",
       "      <td>Hot iron</td>\n",
       "      <td>2.30986</td>\n",
       "      <td>Air</td>\n",
       "      <td>Hot iron</td>\n",
       "      <td>12/14/1893</td>\n",
       "    </tr>\n",
       "    <tr>\n",
       "      <th>7</th>\n",
       "      <td>Air</td>\n",
       "      <td>Hot iron</td>\n",
       "      <td>2.31010</td>\n",
       "      <td>Air</td>\n",
       "      <td>Hot iron</td>\n",
       "      <td>12/19/1893</td>\n",
       "    </tr>\n",
       "    <tr>\n",
       "      <th>8</th>\n",
       "      <td>Air</td>\n",
       "      <td>Hot iron</td>\n",
       "      <td>2.31001</td>\n",
       "      <td>Air</td>\n",
       "      <td>Hot iron</td>\n",
       "      <td>12/22/1893</td>\n",
       "    </tr>\n",
       "    <tr>\n",
       "      <th>9</th>\n",
       "      <td>Air</td>\n",
       "      <td>Ferrous hydrate</td>\n",
       "      <td>2.31024</td>\n",
       "      <td>Air</td>\n",
       "      <td>Ferrous hydrate</td>\n",
       "      <td>01/27/1894</td>\n",
       "    </tr>\n",
       "    <tr>\n",
       "      <th>10</th>\n",
       "      <td>Air</td>\n",
       "      <td>Ferrous hydrate</td>\n",
       "      <td>2.31010</td>\n",
       "      <td>Air</td>\n",
       "      <td>Ferrous hydrate</td>\n",
       "      <td>01/30/1894</td>\n",
       "    </tr>\n",
       "    <tr>\n",
       "      <th>11</th>\n",
       "      <td>Air</td>\n",
       "      <td>Ferrous hydrate</td>\n",
       "      <td>2.31028</td>\n",
       "      <td>Air</td>\n",
       "      <td>Ferrous hydrate</td>\n",
       "      <td>02/01/1894</td>\n",
       "    </tr>\n",
       "    <tr>\n",
       "      <th>12</th>\n",
       "      <td>Chemical</td>\n",
       "      <td>Iron and NO</td>\n",
       "      <td>2.30143</td>\n",
       "      <td>NO</td>\n",
       "      <td>Hot iron</td>\n",
       "      <td>11/29/1893</td>\n",
       "    </tr>\n",
       "    <tr>\n",
       "      <th>13</th>\n",
       "      <td>Chemical</td>\n",
       "      <td>Iron and NO</td>\n",
       "      <td>2.29890</td>\n",
       "      <td>NO</td>\n",
       "      <td>Hot iron</td>\n",
       "      <td>12/08/1893</td>\n",
       "    </tr>\n",
       "    <tr>\n",
       "      <th>14</th>\n",
       "      <td>Chemical</td>\n",
       "      <td>Iron and NO</td>\n",
       "      <td>2.29816</td>\n",
       "      <td>NO</td>\n",
       "      <td>Hot iron</td>\n",
       "      <td>12/05/1893</td>\n",
       "    </tr>\n",
       "    <tr>\n",
       "      <th>15</th>\n",
       "      <td>Chemical</td>\n",
       "      <td>Iron and NO</td>\n",
       "      <td>2.30182</td>\n",
       "      <td>NO</td>\n",
       "      <td>Hot iron</td>\n",
       "      <td>12/06/1893</td>\n",
       "    </tr>\n",
       "    <tr>\n",
       "      <th>16</th>\n",
       "      <td>Chemical</td>\n",
       "      <td>Iron and N2O</td>\n",
       "      <td>2.29869</td>\n",
       "      <td>N2O</td>\n",
       "      <td>Hot iron</td>\n",
       "      <td>12/26/1893</td>\n",
       "    </tr>\n",
       "    <tr>\n",
       "      <th>17</th>\n",
       "      <td>Chemical</td>\n",
       "      <td>Iron and N2O</td>\n",
       "      <td>2.29940</td>\n",
       "      <td>N2O</td>\n",
       "      <td>Hot iron</td>\n",
       "      <td>12/28/1893</td>\n",
       "    </tr>\n",
       "    <tr>\n",
       "      <th>18</th>\n",
       "      <td>Chemical</td>\n",
       "      <td>NH4NO2</td>\n",
       "      <td>2.29849</td>\n",
       "      <td>NH4NO2</td>\n",
       "      <td>Hot iron</td>\n",
       "      <td>01/09/1894</td>\n",
       "    </tr>\n",
       "    <tr>\n",
       "      <th>19</th>\n",
       "      <td>Chemical</td>\n",
       "      <td>NH4NO2</td>\n",
       "      <td>2.29889</td>\n",
       "      <td>NH4NO2</td>\n",
       "      <td>Hot iron</td>\n",
       "      <td>01/13/1894</td>\n",
       "    </tr>\n",
       "    <tr>\n",
       "      <th>20</th>\n",
       "      <td>Air</td>\n",
       "      <td>Hot iron, electrified</td>\n",
       "      <td>2.31163</td>\n",
       "      <td>Air</td>\n",
       "      <td>Hot iron, electrified</td>\n",
       "      <td>01/01/1894</td>\n",
       "    </tr>\n",
       "    <tr>\n",
       "      <th>21</th>\n",
       "      <td>Air</td>\n",
       "      <td>Hot iron, electrified</td>\n",
       "      <td>2.30956</td>\n",
       "      <td>Air</td>\n",
       "      <td>Hot iron, electrified</td>\n",
       "      <td>01/04/1894</td>\n",
       "    </tr>\n",
       "    <tr>\n",
       "      <th>22</th>\n",
       "      <td>Chemical</td>\n",
       "      <td>Electrified Iron and N2O</td>\n",
       "      <td>2.30074</td>\n",
       "      <td>N2O</td>\n",
       "      <td>Hot iron, electrified</td>\n",
       "      <td>01/02/1894</td>\n",
       "    </tr>\n",
       "    <tr>\n",
       "      <th>23</th>\n",
       "      <td>Chemical</td>\n",
       "      <td>Electrified Iron and N2O</td>\n",
       "      <td>2.30054</td>\n",
       "      <td>N2O</td>\n",
       "      <td>Hot iron, electrified</td>\n",
       "      <td>01/05/1894</td>\n",
       "    </tr>\n",
       "  </tbody>\n",
       "</table>\n",
       "</div>"
      ],
      "text/plain": [
       "   Origin Type      Method of extraction   Weight  Origin  \\\n",
       "0          Air                Hot copper  2.31035     Air   \n",
       "1          Air                Hot copper  2.31026     Air   \n",
       "2          Air                Hot copper  2.31024     Air   \n",
       "3          Air                Hot copper  2.31012     Air   \n",
       "4          Air                Hot copper  2.31027     Air   \n",
       "5          Air                  Hot iron  2.31017     Air   \n",
       "6          Air                  Hot iron  2.30986     Air   \n",
       "7          Air                  Hot iron  2.31010     Air   \n",
       "8          Air                  Hot iron  2.31001     Air   \n",
       "9          Air           Ferrous hydrate  2.31024     Air   \n",
       "10         Air           Ferrous hydrate  2.31010     Air   \n",
       "11         Air           Ferrous hydrate  2.31028     Air   \n",
       "12    Chemical               Iron and NO  2.30143      NO   \n",
       "13    Chemical               Iron and NO  2.29890      NO   \n",
       "14    Chemical               Iron and NO  2.29816      NO   \n",
       "15    Chemical               Iron and NO  2.30182      NO   \n",
       "16    Chemical              Iron and N2O  2.29869     N2O   \n",
       "17    Chemical              Iron and N2O  2.29940     N2O   \n",
       "18    Chemical                    NH4NO2  2.29849  NH4NO2   \n",
       "19    Chemical                    NH4NO2  2.29889  NH4NO2   \n",
       "20         Air     Hot iron, electrified  2.31163     Air   \n",
       "21         Air     Hot iron, electrified  2.30956     Air   \n",
       "22    Chemical  Electrified Iron and N2O  2.30074     N2O   \n",
       "23    Chemical  Electrified Iron and N2O  2.30054     N2O   \n",
       "\n",
       "          Purifying Agent        Date  \n",
       "0              Hot copper  07/01/1892  \n",
       "1              Hot copper  07/01/1892  \n",
       "2              Hot copper  07/01/1892  \n",
       "3              Hot copper  07/01/1892  \n",
       "4              Hot copper  07/01/1892  \n",
       "5                Hot iron  12/12/1893  \n",
       "6                Hot iron  12/14/1893  \n",
       "7                Hot iron  12/19/1893  \n",
       "8                Hot iron  12/22/1893  \n",
       "9         Ferrous hydrate  01/27/1894  \n",
       "10        Ferrous hydrate  01/30/1894  \n",
       "11        Ferrous hydrate  02/01/1894  \n",
       "12               Hot iron  11/29/1893  \n",
       "13               Hot iron  12/08/1893  \n",
       "14               Hot iron  12/05/1893  \n",
       "15               Hot iron  12/06/1893  \n",
       "16               Hot iron  12/26/1893  \n",
       "17               Hot iron  12/28/1893  \n",
       "18               Hot iron  01/09/1894  \n",
       "19               Hot iron  01/13/1894  \n",
       "20  Hot iron, electrified  01/01/1894  \n",
       "21  Hot iron, electrified  01/04/1894  \n",
       "22  Hot iron, electrified  01/02/1894  \n",
       "23  Hot iron, electrified  01/05/1894  "
      ]
     },
     "execution_count": 32,
     "metadata": {},
     "output_type": "execute_result"
    }
   ],
   "source": [
    "nitrogen_df"
   ]
  },
  {
   "cell_type": "code",
   "execution_count": 36,
   "metadata": {},
   "outputs": [
    {
     "data": {
      "text/plain": [
       "<matplotlib.axes._subplots.AxesSubplot at 0x1a1b44b6d8>"
      ]
     },
     "execution_count": 36,
     "metadata": {},
     "output_type": "execute_result"
    },
    {
     "data": {
      "image/png": "[encoded data removed]",
      "text/plain": [
       "<Figure size 432x288 with 1 Axes>"
      ]
     },
     "metadata": {
      "needs_background": "light"
     },
     "output_type": "display_data"
    }
   ],
   "source": [
    "nitrogen_df['Weight'].plot(kind = 'box')"
   ]
  },
  {
   "cell_type": "code",
   "execution_count": 46,
   "metadata": {},
   "outputs": [
    {
     "data": {
      "image/png": "[encoded data removed]",
      "text/plain": [
       "<Figure size 432x288 with 1 Axes>"
      ]
     },
     "metadata": {
      "needs_background": "light"
     },
     "output_type": "display_data"
    }
   ],
   "source": [
    "ax = sns.boxplot('Weight', data = nitrogen_df, orient = 'v', saturation = 0.5)\n",
    "ax = sns.swarmplot('Weight', data = nitrogen_df, orient = 'v', color = '.25')"
   ]
  },
  {
   "cell_type": "code",
   "execution_count": 47,
   "metadata": {},
   "outputs": [
    {
     "data": {
      "text/plain": [
       "Index(['Origin Type', 'Method of extraction', 'Weight', 'Origin',\n",
       "       'Purifying Agent', 'Date'],\n",
       "      dtype='object')"
      ]
     },
     "execution_count": 47,
     "metadata": {},
     "output_type": "execute_result"
    }
   ],
   "source": [
    "nitrogen_df.columns"
   ]
  },
  {
   "cell_type": "code",
   "execution_count": 51,
   "metadata": {},
   "outputs": [
    {
     "data": {
      "image/png": "[encoded data removed]",
      "text/plain": [
       "<Figure size 432x288 with 1 Axes>"
      ]
     },
     "metadata": {
      "needs_background": "light"
     },
     "output_type": "display_data"
    }
   ],
   "source": [
    "ax = sns.boxplot(x = 'Origin Type', y = 'Weight', data = nitrogen_df)\n",
    "ax = sns.swarmplot(x = 'Origin Type', y = 'Weight', data = nitrogen_df)"
   ]
  },
  {
   "cell_type": "markdown",
   "metadata": {},
   "source": [
    "# Melting"
   ]
  },
  {
   "cell_type": "code",
   "execution_count": 341,
   "metadata": {
    "scrolled": true
   },
   "outputs": [],
   "source": [
    "melted = abx_df.melt(id_vars = ['bacteria', 'gram', 'genus'])"
   ]
  },
  {
   "cell_type": "markdown",
   "metadata": {},
   "source": [
    "### Interactive Visualizations"
   ]
  },
  {
   "cell_type": "markdown",
   "metadata": {},
   "source": [
    "There are many libraries that offer ways to do interactive visualization:\n",
    "\n",
    "`bokeh`, `plotly`, `d3.js`, etc."
   ]
  }
 ],
 "metadata": {
  "kernelspec": {
   "display_name": "Python 3",
   "language": "python",
   "name": "python3"
  },
  "language_info": {
   "codemirror_mode": {
    "name": "ipython",
    "version": 3
   },
   "file_extension": ".py",
   "mimetype": "text/x-python",
   "name": "python",
   "nbconvert_exporter": "python",
   "pygments_lexer": "ipython3",
   "version": "3.7.0"
  }
 },
 "nbformat": 4,
 "nbformat_minor": 2
}
